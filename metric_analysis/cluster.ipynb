{
 "cells": [
  {
   "cell_type": "code",
   "execution_count": 9,
   "metadata": {},
   "outputs": [
    {
     "name": "stderr",
     "output_type": "stream",
     "text": [
      "/home/dxw/anaconda3/envs/llava/lib/python3.8/site-packages/sklearn/cluster/_kmeans.py:1416: FutureWarning: The default value of `n_init` will change from 10 to 'auto' in 1.4. Set the value of `n_init` explicitly to suppress the warning\n",
      "  super()._check_params_vs_input(X, default_n_init=10)\n"
     ]
    },
    {
     "name": "stdout",
     "output_type": "stream",
     "text": [
      "Message 1 (蓝色思考帽(管理)): 白色思考帽(客观)负责客观陈述事实和数据，红色思考帽(情感)表达情绪和预感，黄色思考帽(积极)表达乐观、满怀希望、建设性的观点，黑色思考帽(批判)提出负面意见\n"
     ]
    },
    {
     "name": "stderr",
     "output_type": "stream",
     "text": [
      "/home/dxw/anaconda3/envs/llava/lib/python3.8/site-packages/sklearn/cluster/_kmeans.py:1416: FutureWarning: The default value of `n_init` will change from 10 to 'auto' in 1.4. Set the value of `n_init` explicitly to suppress the warning\n",
      "  super()._check_params_vs_input(X, default_n_init=10)\n"
     ]
    },
    {
     "name": "stdout",
     "output_type": "stream",
     "text": [
      "Message 2 (红色思考帽(情感)): 综合来看，这些牌都表明你需要面对一些情感上的挑战，但同时也表示未来可能会有一些改变和希望\n"
     ]
    },
    {
     "name": "stderr",
     "output_type": "stream",
     "text": [
      "/home/dxw/anaconda3/envs/llava/lib/python3.8/site-packages/sklearn/cluster/_kmeans.py:1416: FutureWarning: The default value of `n_init` will change from 10 to 'auto' in 1.4. Set the value of `n_init` explicitly to suppress the warning\n",
      "  super()._check_params_vs_input(X, default_n_init=10)\n"
     ]
    },
    {
     "name": "stdout",
     "output_type": "stream",
     "text": [
      "Message 3 (黄色思考帽(积极)): 我们可以尝试从以下几个方面来考虑：\n",
      "\n",
      "1. 识别并释放消极情绪：当面对压力和挑战时，我们可能会产生消极情绪，如焦虑、沮丧、愤怒等\n"
     ]
    },
    {
     "name": "stderr",
     "output_type": "stream",
     "text": [
      "/home/dxw/anaconda3/envs/llava/lib/python3.8/site-packages/sklearn/cluster/_kmeans.py:1416: FutureWarning: The default value of `n_init` will change from 10 to 'auto' in 1.4. Set the value of `n_init` explicitly to suppress the warning\n",
      "  super()._check_params_vs_input(X, default_n_init=10)\n"
     ]
    },
    {
     "name": "stdout",
     "output_type": "stream",
     "text": [
      "Message 4 (绿色思考帽(创新)): \n",
      "\n",
      "希望我的分析能够对你有所帮助\n"
     ]
    },
    {
     "name": "stderr",
     "output_type": "stream",
     "text": [
      "/home/dxw/anaconda3/envs/llava/lib/python3.8/site-packages/sklearn/cluster/_kmeans.py:1416: FutureWarning: The default value of `n_init` will change from 10 to 'auto' in 1.4. Set the value of `n_init` explicitly to suppress the warning\n",
      "  super()._check_params_vs_input(X, default_n_init=10)\n"
     ]
    },
    {
     "name": "stdout",
     "output_type": "stream",
     "text": [
      "Message 5 (黑色思考帽(批判)): 希望我的回答能够对你有所帮助\n"
     ]
    },
    {
     "name": "stderr",
     "output_type": "stream",
     "text": [
      "/home/dxw/anaconda3/envs/llava/lib/python3.8/site-packages/sklearn/cluster/_kmeans.py:1416: FutureWarning: The default value of `n_init` will change from 10 to 'auto' in 1.4. Set the value of `n_init` explicitly to suppress the warning\n",
      "  super()._check_params_vs_input(X, default_n_init=10)\n"
     ]
    },
    {
     "name": "stdout",
     "output_type": "stream",
     "text": [
      "Message 6 (白色思考帽(客观)): 好的，让我来总结一下之前的讨论\n"
     ]
    },
    {
     "name": "stderr",
     "output_type": "stream",
     "text": [
      "/home/dxw/anaconda3/envs/llava/lib/python3.8/site-packages/sklearn/cluster/_kmeans.py:1416: FutureWarning: The default value of `n_init` will change from 10 to 'auto' in 1.4. Set the value of `n_init` explicitly to suppress the warning\n",
      "  super()._check_params_vs_input(X, default_n_init=10)\n"
     ]
    },
    {
     "name": "stdout",
     "output_type": "stream",
     "text": [
      "Message 7 (蓝色思考帽(管理)): \n",
      "\n",
      "3）沟通和协作：在转变过程中，与同事和上级保持良好的沟通和协作非常重要，这有助于我们更好地应对挑战\n"
     ]
    },
    {
     "name": "stderr",
     "output_type": "stream",
     "text": [
      "/home/dxw/anaconda3/envs/llava/lib/python3.8/site-packages/sklearn/cluster/_kmeans.py:1416: FutureWarning: The default value of `n_init` will change from 10 to 'auto' in 1.4. Set the value of `n_init` explicitly to suppress the warning\n",
      "  super()._check_params_vs_input(X, default_n_init=10)\n"
     ]
    },
    {
     "name": "stdout",
     "output_type": "stream",
     "text": [
      "Message 8 (白色思考帽(客观)): 根据塔罗牌占卜结果，我们可以看出你目前正面临一些情感、工作和生活方面的挑战\n"
     ]
    },
    {
     "name": "stderr",
     "output_type": "stream",
     "text": [
      "/home/dxw/anaconda3/envs/llava/lib/python3.8/site-packages/sklearn/cluster/_kmeans.py:1416: FutureWarning: The default value of `n_init` will change from 10 to 'auto' in 1.4. Set the value of `n_init` explicitly to suppress the warning\n",
      "  super()._check_params_vs_input(X, default_n_init=10)\n"
     ]
    },
    {
     "name": "stdout",
     "output_type": "stream",
     "text": [
      "Message 9 (红色思考帽(情感)): 同时，这也可能意味着你需要重新审视自己的价值观，重新思考自己的目标\n"
     ]
    },
    {
     "name": "stderr",
     "output_type": "stream",
     "text": [
      "/home/dxw/anaconda3/envs/llava/lib/python3.8/site-packages/sklearn/cluster/_kmeans.py:1416: FutureWarning: The default value of `n_init` will change from 10 to 'auto' in 1.4. Set the value of `n_init` explicitly to suppress the warning\n",
      "  super()._check_params_vs_input(X, default_n_init=10)\n"
     ]
    },
    {
     "name": "stdout",
     "output_type": "stream",
     "text": [
      "Message 10 (黄色思考帽(积极)): 根据之前的讨论，我们可以从以下几个方面来继续讨论如何应对职业转变：\n",
      "\n",
      "1. 寻找新的职业机会：你提到可能会面临离开目前职位或转变职业方向的选择，这是一个非常关键的决策\n"
     ]
    },
    {
     "name": "stderr",
     "output_type": "stream",
     "text": [
      "/home/dxw/anaconda3/envs/llava/lib/python3.8/site-packages/sklearn/cluster/_kmeans.py:1416: FutureWarning: The default value of `n_init` will change from 10 to 'auto' in 1.4. Set the value of `n_init` explicitly to suppress the warning\n",
      "  super()._check_params_vs_input(X, default_n_init=10)\n"
     ]
    },
    {
     "name": "stdout",
     "output_type": "stream",
     "text": [
      "Message 11 (黑色思考帽(批判)): 同时，在改变自己的思维方式时，我们需要确保这种改变是真正有利于我们的，而不是带来更多的困扰\n"
     ]
    },
    {
     "name": "stderr",
     "output_type": "stream",
     "text": [
      "/home/dxw/anaconda3/envs/llava/lib/python3.8/site-packages/sklearn/cluster/_kmeans.py:1416: FutureWarning: The default value of `n_init` will change from 10 to 'auto' in 1.4. Set the value of `n_init` explicitly to suppress the warning\n",
      "  super()._check_params_vs_input(X, default_n_init=10)\n"
     ]
    },
    {
     "name": "stdout",
     "output_type": "stream",
     "text": [
      "Message 12 (绿色思考帽(创新)): \n",
      "\n",
      "2. 建立个人品牌：通过社交媒体、个人网站等方式，您可以建立自己的个人品牌，展示您的专业技能和经验\n"
     ]
    },
    {
     "name": "stderr",
     "output_type": "stream",
     "text": [
      "/home/dxw/anaconda3/envs/llava/lib/python3.8/site-packages/sklearn/cluster/_kmeans.py:1416: FutureWarning: The default value of `n_init` will change from 10 to 'auto' in 1.4. Set the value of `n_init` explicitly to suppress the warning\n",
      "  super()._check_params_vs_input(X, default_n_init=10)\n"
     ]
    },
    {
     "name": "stdout",
     "output_type": "stream",
     "text": [
      "Message 13 (蓝色思考帽(管理)): \n",
      "\n",
      "在之前的讨论中，我们使用了不同的思考帽来表达和分析问题，包括白色思考帽(客观)、红色思考帽(情感)、黄色思考帽(积极)、黑色思考帽(批判)、绿色思考帽(创新)等\n"
     ]
    },
    {
     "name": "stderr",
     "output_type": "stream",
     "text": [
      "/home/dxw/anaconda3/envs/llava/lib/python3.8/site-packages/sklearn/cluster/_kmeans.py:1416: FutureWarning: The default value of `n_init` will change from 10 to 'auto' in 1.4. Set the value of `n_init` explicitly to suppress the warning\n",
      "  super()._check_params_vs_input(X, default_n_init=10)\n"
     ]
    },
    {
     "name": "stdout",
     "output_type": "stream",
     "text": [
      "Message 14 (白色思考帽(客观)): 根据塔罗牌占卜结果，我们可以看出你目前正面临一些情感、工作和生活方面的挑战\n"
     ]
    },
    {
     "name": "stderr",
     "output_type": "stream",
     "text": [
      "/home/dxw/anaconda3/envs/llava/lib/python3.8/site-packages/sklearn/cluster/_kmeans.py:1416: FutureWarning: The default value of `n_init` will change from 10 to 'auto' in 1.4. Set the value of `n_init` explicitly to suppress the warning\n",
      "  super()._check_params_vs_input(X, default_n_init=10)\n"
     ]
    },
    {
     "name": "stdout",
     "output_type": "stream",
     "text": [
      "Message 15 (红色思考帽(情感)): 你可以思考一下，这次转变是否是你追求的新的开始和机会？如果你认为这是你想要的，那么勇敢地面对这个转变，并寻找新的机会\n"
     ]
    },
    {
     "name": "stderr",
     "output_type": "stream",
     "text": [
      "/home/dxw/anaconda3/envs/llava/lib/python3.8/site-packages/sklearn/cluster/_kmeans.py:1416: FutureWarning: The default value of `n_init` will change from 10 to 'auto' in 1.4. Set the value of `n_init` explicitly to suppress the warning\n",
      "  super()._check_params_vs_input(X, default_n_init=10)\n"
     ]
    },
    {
     "name": "stdout",
     "output_type": "stream",
     "text": [
      "Message 16 (黄色思考帽(积极)): 亲爱的朋友，感谢你的积极反馈\n"
     ]
    },
    {
     "name": "stderr",
     "output_type": "stream",
     "text": [
      "/home/dxw/anaconda3/envs/llava/lib/python3.8/site-packages/sklearn/cluster/_kmeans.py:1416: FutureWarning: The default value of `n_init` will change from 10 to 'auto' in 1.4. Set the value of `n_init` explicitly to suppress the warning\n",
      "  super()._check_params_vs_input(X, default_n_init=10)\n"
     ]
    },
    {
     "name": "stdout",
     "output_type": "stream",
     "text": [
      "Message 17 (黑色思考帽(批判)): 在这个过程中，保持积极的心态、沟通和合作、制定发展规划、心理调适、保持耐心和不断学习是非常重要的\n",
      "Message 18 (绿色思考帽(创新)): 亲爱的朋友，根据之前的讨论，我认为在应对职业转变的过程中，可以从以下几个方面进行创新思考：\n",
      "\n",
      "1. 跨领域发展：可以尝试寻找与自己现有领域相关的跨界机会，例如从技术岗位转向产品经理或者从市场岗位转向设计岗位\n",
      "代表性句子已保存到 /data1/dxw_data/llm/is_agents/agents/six_hats/task5/representative_sentences.txt\n"
     ]
    },
    {
     "name": "stderr",
     "output_type": "stream",
     "text": [
      "/home/dxw/anaconda3/envs/llava/lib/python3.8/site-packages/sklearn/cluster/_kmeans.py:1416: FutureWarning: The default value of `n_init` will change from 10 to 'auto' in 1.4. Set the value of `n_init` explicitly to suppress the warning\n",
      "  super()._check_params_vs_input(X, default_n_init=10)\n"
     ]
    }
   ],
   "source": [
    "import torch\n",
    "from transformers import AutoTokenizer, AutoModel\n",
    "from sklearn.cluster import KMeans\n",
    "import numpy as np\n",
    "from sklearn.metrics import pairwise_distances_argmin_min\n",
    "import json\n",
    "\n",
    "# 加载模型和分词器\n",
    "tokenizer = AutoTokenizer.from_pretrained(\"/data1/dxw_data/llm/text2vec-large-chinese\")\n",
    "model = AutoModel.from_pretrained(\"/data1/dxw_data/llm/text2vec-large-chinese\")\n",
    "\n",
    "# 读取 conversation_history.json 文件\n",
    "with open('/data1/dxw_data/llm/is_agents/agents/six_hats/task5/conversation_history.json', 'r', encoding='utf-8') as file:\n",
    "    conversation_data = json.load(file)\n",
    "\n",
    "# 对每个句子生成 embedding\n",
    "def generate_embedding(text):\n",
    "    inputs = tokenizer(text, return_tensors=\"pt\", truncation=True, padding=True, max_length=128)\n",
    "    with torch.no_grad():\n",
    "        embeddings = model(**inputs).last_hidden_state.mean(dim=1)  # 取均值作为句子的 embedding\n",
    "    return embeddings.squeeze().cpu().numpy()\n",
    "\n",
    "# 对每个 message 进行分句处理并生成 embeddings\n",
    "def cluster_message(message, num_clusters=3):  # 可以根据需要调整聚类数量\n",
    "    sentences = message.split('。')  # 使用 '。' 将 message 分成句子，可以根据实际情况调整分句方式\n",
    "    sentences = [sentence for sentence in sentences if sentence.strip()]  # 去掉空句子\n",
    "    \n",
    "    if len(sentences) < num_clusters:  # 如果句子数量少于聚类数目，则直接返回整个 message\n",
    "        return sentences[0]  # 返回第一句作为代表性句子\n",
    "    \n",
    "    # 为每个句子生成 embedding\n",
    "    embeddings = np.array([generate_embedding(sentence) for sentence in sentences])\n",
    "\n",
    "    # 聚类分析\n",
    "    kmeans = KMeans(n_clusters=num_clusters, random_state=42)\n",
    "    kmeans.fit(embeddings)\n",
    "\n",
    "    # 计算每个聚类中与聚类中心最接近的句子\n",
    "    closest, _ = pairwise_distances_argmin_min(kmeans.cluster_centers_, embeddings)\n",
    "    \n",
    "    # 返回最具代表性的句子\n",
    "    return sentences[closest[0]]  # 取与聚类中心最近的一句\n",
    "\n",
    "# 输出每个 message 中最具代表性的一句话\n",
    "output_file = '/data1/dxw_data/llm/is_agents/agents/six_hats/task5/representative_sentences.txt'\n",
    "with open(output_file, 'w', encoding='utf-8') as f:\n",
    "    for i, conversation in enumerate(conversation_data):\n",
    "        agent = conversation['agent']\n",
    "        message = conversation['message']\n",
    "        \n",
    "        # 对每个 message 进行聚类分析，得到最具代表性的一句话\n",
    "        representative_sentence = cluster_message(message)\n",
    "        \n",
    "        # 输出并保存结果\n",
    "        output_text = f\"Message {i+1} ({agent}): {representative_sentence}\"\n",
    "        print(output_text)\n",
    "        f.write(output_text + '\\n')\n",
    "\n",
    "print(f\"代表性句子已保存到 {output_file}\")\n"
   ]
  }
 ],
 "metadata": {
  "kernelspec": {
   "display_name": "llava",
   "language": "python",
   "name": "python3"
  },
  "language_info": {
   "codemirror_mode": {
    "name": "ipython",
    "version": 3
   },
   "file_extension": ".py",
   "mimetype": "text/x-python",
   "name": "python",
   "nbconvert_exporter": "python",
   "pygments_lexer": "ipython3",
   "version": "3.8.19"
  }
 },
 "nbformat": 4,
 "nbformat_minor": 2
}
